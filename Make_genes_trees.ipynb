{
 "cells": [
  {
   "cell_type": "code",
   "execution_count": 1,
   "id": "ed6798a7",
   "metadata": {},
   "outputs": [],
   "source": [
    "import subprocess\n",
    "import pandas as pd\n",
    "import os\n",
    "\n",
    "from os import walk\n",
    "from Bio import SeqIO\n",
    "from Bio.SeqRecord import SeqRecord\n",
    "from Bio.Seq import Seq\n",
    "from Bio import AlignIO\n",
    "from CAI import CAI\n",
    "\n",
    "import itertools as it"
   ]
  },
  {
   "cell_type": "code",
   "execution_count": 2,
   "id": "d381cb5a",
   "metadata": {},
   "outputs": [],
   "source": [
    "FASTAS = 'all_fastas'\n",
    "CLEAN_FASTAS = 'clean_fastas'"
   ]
  },
  {
   "cell_type": "code",
   "execution_count": null,
   "id": "b43607f0",
   "metadata": {},
   "outputs": [],
   "source": [
    "genes = ['16S', '18S', '28S', 'cox1']\n",
    "groups = ['Spionidae', 'Magelonidae', 'Spionida', 'Polydora', 'Pseudopolydora', 'Pseudopotamilla', 'Dipolydora']"
   ]
  },
  {
   "cell_type": "code",
   "execution_count": null,
   "id": "5a38982f",
   "metadata": {},
   "outputs": [],
   "source": []
  },
  {
   "cell_type": "code",
   "execution_count": null,
   "id": "c4349c5c",
   "metadata": {},
   "outputs": [],
   "source": []
  },
  {
   "cell_type": "code",
   "execution_count": null,
   "id": "cb22edb3",
   "metadata": {},
   "outputs": [],
   "source": []
  },
  {
   "cell_type": "code",
   "execution_count": null,
   "id": "5c8ecd6b",
   "metadata": {},
   "outputs": [],
   "source": []
  },
  {
   "cell_type": "code",
   "execution_count": null,
   "id": "d4383236",
   "metadata": {},
   "outputs": [],
   "source": []
  },
  {
   "cell_type": "code",
   "execution_count": null,
   "id": "e421e4a4",
   "metadata": {},
   "outputs": [],
   "source": []
  }
 ],
 "metadata": {
  "kernelspec": {
   "display_name": "Python 3 (ipykernel)",
   "language": "python",
   "name": "python3"
  },
  "language_info": {
   "codemirror_mode": {
    "name": "ipython",
    "version": 3
   },
   "file_extension": ".py",
   "mimetype": "text/x-python",
   "name": "python",
   "nbconvert_exporter": "python",
   "pygments_lexer": "ipython3",
   "version": "3.10.8"
  }
 },
 "nbformat": 4,
 "nbformat_minor": 5
}
